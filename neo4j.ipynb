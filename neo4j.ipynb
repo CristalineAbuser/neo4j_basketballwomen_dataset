{
 "cells": [
  {
   "cell_type": "code",
   "execution_count": 1,
   "id": "mexican-summary",
   "metadata": {},
   "outputs": [],
   "source": [
    "import json\n",
    "import pandas as pd"
   ]
  },
  {
   "cell_type": "code",
   "execution_count": 2,
   "id": "consolidated-static",
   "metadata": {},
   "outputs": [],
   "source": [
    "data = []\n",
    "with open('Basketball_women.json',\"r\") as f:\n",
    "    lines = f.read()\n",
    "    data = lines.split(\"\\n\")"
   ]
  },
  {
   "cell_type": "code",
   "execution_count": 46,
   "id": "boolean-contrast",
   "metadata": {},
   "outputs": [],
   "source": [
    "PlayerInfo=[]\n",
    "PlayerInfohead = [\"_id\",\"firstName\",\"middleName\",\"lastName\",\"fullGivenName\",\"nameNick\",\"pos\",\"height\",\"weight\",\"college\",\"birthDate\",\"birthCity\",\"birthCountry\",\"highSchool\",\"hsCity\",\"hsState\",\"hsCountry\"]\n",
    "\n",
    "player_team=[]\n",
    "player_teamhead=[\"_id\",\"year\",\"tmID\",\"games\",\"minutes\",\"points\",\"steals\",\"blocks\"]\n",
    "\n",
    "award=[]\n",
    "award_head=[\"_id\",\"award\",'year',\"pos\"]\n",
    "\n",
    "data=data[:-1]"
   ]
  },
  {
   "cell_type": "code",
   "execution_count": 47,
   "id": "answering-bread",
   "metadata": {},
   "outputs": [],
   "source": [
    "for row in data:\n",
    "    dic=json.loads(row)\n",
    "    PlayerInfo_row=[dic[\"_id\"],dic[\"firstName\"],dic[\"middleName\"],dic[\"lastName\"],dic[\"fullGivenName\"],dic[\"nameNick\"],dic[\"pos\"],dic[\"height\"],dic[\"weight\"],dic[\"college\"],dic[\"birthDate\"],dic[\"birthCity\"],dic[\"birthCountry\"],dic[\"highSchool\"],dic[\"hsCity\"],dic[\"hsState\"],dic[\"hsCountry\"]]\n",
    "    PlayerInfo.append(PlayerInfo_row)\n",
    "    \n",
    "    allteams=dic[\"players_teams\"]\n",
    "    for g in allteams:\n",
    "        player_team.append([dic[\"_id\"],g[\"year\"],g[\"tmID\"],g[\"games\"],g[\"minutes\"],g[\"points\"],g[\"steals\"],g[\"blocks\"]])\n",
    "    \n",
    "    allawards=dic[\"awards_players\"]\n",
    "    for a in allawards:\n",
    "        award.append([dic[\"_id\"],a[\"award\"],a['year'],a[\"pos\"]])\n",
    "    "
   ]
  },
  {
   "cell_type": "code",
   "execution_count": 48,
   "id": "nutritional-graph",
   "metadata": {},
   "outputs": [],
   "source": [
    "df_playerinfo=pd.DataFrame(data=PlayerInfo,columns=PlayerInfohead)\n",
    "df_playerinfo.to_csv(\"players.csv\",index=False)"
   ]
  },
  {
   "cell_type": "code",
   "execution_count": 50,
   "id": "young-trout",
   "metadata": {},
   "outputs": [],
   "source": [
    "df_teams=pd.DataFrame(data=player_team,columns=player_teamhead)\n",
    "df_teams.to_csv(\"teams.csv\",index=False)"
   ]
  },
  {
   "cell_type": "code",
   "execution_count": 52,
   "id": "revised-brick",
   "metadata": {},
   "outputs": [],
   "source": [
    "df_award=pd.DataFrame(data=award,columns=award_head)\n",
    "df_award.to_csv(\"awards.csv\",index=False)"
   ]
  },
  {
   "cell_type": "code",
   "execution_count": null,
   "id": "environmental-earth",
   "metadata": {},
   "outputs": [],
   "source": []
  }
 ],
 "metadata": {
  "kernelspec": {
   "display_name": "Python 3",
   "language": "python",
   "name": "python3"
  },
  "language_info": {
   "codemirror_mode": {
    "name": "ipython",
    "version": 3
   },
   "file_extension": ".py",
   "mimetype": "text/x-python",
   "name": "python",
   "nbconvert_exporter": "python",
   "pygments_lexer": "ipython3",
   "version": "3.8.5"
  }
 },
 "nbformat": 4,
 "nbformat_minor": 5
}
